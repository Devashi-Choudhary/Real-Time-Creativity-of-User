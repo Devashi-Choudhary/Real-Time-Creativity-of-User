{
 "cells": [
  {
   "cell_type": "markdown",
   "metadata": {},
   "source": [
    "# Importing Libraries"
   ]
  },
  {
   "cell_type": "code",
   "execution_count": 25,
   "metadata": {
    "colab": {
     "base_uri": "https://localhost:8080/",
     "height": 34
    },
    "colab_type": "code",
    "executionInfo": {
     "elapsed": 2899,
     "status": "ok",
     "timestamp": 1556346226004,
     "user": {
      "displayName": "Shah Meet Harshadbhai",
      "photoUrl": "https://lh3.googleusercontent.com/-Xw3qCrh1Coc/AAAAAAAAAAI/AAAAAAAAD7g/6HCf0aKb4C4/s64/photo.jpg",
      "userId": "04367392469878204476"
     },
     "user_tz": -330
    },
    "id": "m1n6hPQ_r2gf",
    "outputId": "8b2fc4dd-7311-41bf-a781-e3c5b3f9c583"
   },
   "outputs": [],
   "source": [
    "import keras\n",
    "from keras.models import Sequential\n",
    "from keras.layers import Dense, Dropout, Flatten\n",
    "from keras.layers.convolutional import Conv2D, MaxPooling2D\n",
    "from keras.utils import np_utils\n",
    "from keras import backend as K\n",
    "K.set_image_dim_ordering('th')\n",
    "import numpy as np\n",
    "import pandas as pd\n",
    "from sklearn.model_selection import train_test_split, GridSearchCV\n",
    "from sklearn.metrics import accuracy_score, confusion_matrix, roc_curve, roc_auc_score\n",
    "import os\n",
    "from imutils import paths\n",
    "import glob"
   ]
  },
  {
   "cell_type": "markdown",
   "metadata": {},
   "source": [
    "# Loading dataset"
   ]
  },
  {
   "cell_type": "code",
   "execution_count": 26,
   "metadata": {
    "colab": {},
    "colab_type": "code",
    "id": "h78pCMGssMqu"
   },
   "outputs": [
    {
     "name": "stdout",
     "output_type": "stream",
     "text": [
      "[INFO] loading images...\n"
     ]
    }
   ],
   "source": [
    "print(\"[INFO] loading images...\")\n",
    "class_name = []\n",
    "label_dict ={}\n",
    "def getClassData(path):\n",
    "    i = 0\n",
    "    class_dict = {}\n",
    "    class_name = []\n",
    "    for filename in glob.iglob(path+\"**/*\",recursive=True):\n",
    "        file = filename.split('\\\\')[-1]\n",
    "        label = file.split('.')[0]\n",
    "        file = np.load(filename)\n",
    "        class_dict[i] = label\n",
    "        if (i == 0):\n",
    "            file = np.c_[file, np.zeros(len(file))]\n",
    "        else : \n",
    "            file = np.c_[file, i*np.ones(len(file))]\n",
    "        class_name.append(file)\n",
    "        i += 1\n",
    "    return class_name, class_dict\n",
    "path='Dataset'\n",
    "class_name, label_dict = getClassData(path)"
   ]
  },
  {
   "cell_type": "code",
   "execution_count": 28,
   "metadata": {},
   "outputs": [],
   "source": [
    "class_name = np.array(class_name)\n",
    "y = []\n",
    "for i in range(len(class_name)):\n",
    "    y.extend(class_name[i][:15000,-1])\n",
    "y=np.array(y)\n",
    "print(y)"
   ]
  },
  {
   "cell_type": "code",
   "execution_count": 34,
   "metadata": {},
   "outputs": [
    {
     "name": "stdout",
     "output_type": "stream",
     "text": [
      "(15000, 784)\n",
      "(15000, 784)\n",
      "(15000, 784)\n",
      "(15000, 784)\n",
      "(15000, 784)\n",
      "(15000, 784)\n",
      "(15000, 784)\n",
      "(15000, 784)\n",
      "(15000, 784)\n",
      "(15000, 784)\n"
     ]
    }
   ],
   "source": [
    "for i in range(len(class_name)):\n",
    "    class_name[i] = class_name[i][:15000, :-1]\n",
    "    print(class_name[i].shape)\n",
    "class_data = []\n",
    "print(class_name[0].shape)\n",
    "for i in range(len(class_name)):\n",
    "    class_data.extend(class_name[i])\n",
    "class_data = np.array(class_data)\n",
    "X = class_data"
   ]
  },
  {
   "cell_type": "markdown",
   "metadata": {},
   "source": [
    "# Train-Test Split"
   ]
  },
  {
   "cell_type": "code",
   "execution_count": 41,
   "metadata": {
    "colab": {},
    "colab_type": "code",
    "id": "yXBtxfS7urol"
   },
   "outputs": [],
   "source": [
    "X_train, X_test, y_train, y_test = train_test_split(X/255.,y,test_size=0.4,random_state=0)"
   ]
  },
  {
   "cell_type": "code",
   "execution_count": 42,
   "metadata": {
    "colab": {},
    "colab_type": "code",
    "id": "AS1Yqtgaviv8"
   },
   "outputs": [],
   "source": [
    "y_train_cnn = np_utils.to_categorical(y_train)\n",
    "y_test_cnn = np_utils.to_categorical(y_test)\n",
    "num_classes = y_test_cnn.shape[1]"
   ]
  },
  {
   "cell_type": "code",
   "execution_count": 43,
   "metadata": {
    "colab": {},
    "colab_type": "code",
    "id": "EhZAKouAvl_e"
   },
   "outputs": [],
   "source": [
    "X_train_cnn = X_train.reshape(X_train.shape[0], 1, 28, 28).astype('float32')\n",
    "X_test_cnn = X_test.reshape(X_test.shape[0], 1, 28, 28).astype('float32')"
   ]
  },
  {
   "cell_type": "markdown",
   "metadata": {},
   "source": [
    "# Creating, Training and Evaluation CNN Model"
   ]
  },
  {
   "cell_type": "code",
   "execution_count": 44,
   "metadata": {},
   "outputs": [],
   "source": [
    "def cnn_model():\n",
    "    # create model\n",
    "    model = Sequential()\n",
    "    model.add(Conv2D(30, (5, 5), input_shape=(1, 28, 28), activation='relu'))\n",
    "    model.add(MaxPooling2D(pool_size=(2, 2)))\n",
    "    model.add(Conv2D(15, (3, 3), activation='relu'))\n",
    "    model.add(MaxPooling2D(pool_size=(2, 2)))\n",
    "    model.add(Dropout(0.2))\n",
    "    model.add(Flatten())\n",
    "    model.add(Dense(128, activation='relu'))\n",
    "    model.add(Dense(50, activation='relu'))\n",
    "    model.add(Dense(num_classes, activation='softmax'))\n",
    "    # Compile model\n",
    "    print(\"[INFO] compiling model...\")\n",
    "    model.compile(loss='categorical_crossentropy', optimizer='adam', metrics=['accuracy'])\n",
    "    return model"
   ]
  },
  {
   "cell_type": "code",
   "execution_count": 45,
   "metadata": {
    "colab": {
     "base_uri": "https://localhost:8080/",
     "height": 411
    },
    "colab_type": "code",
    "executionInfo": {
     "elapsed": 813393,
     "status": "ok",
     "timestamp": 1556348735313,
     "user": {
      "displayName": "Shah Meet Harshadbhai",
      "photoUrl": "https://lh3.googleusercontent.com/-Xw3qCrh1Coc/AAAAAAAAAAI/AAAAAAAAD7g/6HCf0aKb4C4/s64/photo.jpg",
      "userId": "04367392469878204476"
     },
     "user_tz": -330
    },
    "id": "btOMPVuIvuNj",
    "outputId": "ba15049a-10a1-43ed-d239-aafa5d0ac7c8"
   },
   "outputs": [
    {
     "name": "stdout",
     "output_type": "stream",
     "text": [
      "[INFO] creating model...\n",
      "[INFO] compiling model...\n",
      "[INFO] training model...\n",
      "Train on 62999 samples, validate on 27001 samples\n",
      "Epoch 1/10\n",
      "62999/62999 [==============================] - 82s 1ms/step - loss: 0.6973 - acc: 0.7868 - val_loss: 0.4009 - val_acc: 0.8830\n",
      "Epoch 2/10\n",
      "62999/62999 [==============================] - 60s 956us/step - loss: 0.3630 - acc: 0.8921 - val_loss: 0.3023 - val_acc: 0.9119\n",
      "Epoch 3/10\n",
      "62999/62999 [==============================] - 54s 862us/step - loss: 0.3000 - acc: 0.9090 - val_loss: 0.2657 - val_acc: 0.9211\n",
      "Epoch 4/10\n",
      "62999/62999 [==============================] - 53s 841us/step - loss: 0.2633 - acc: 0.9209 - val_loss: 0.2450 - val_acc: 0.9280\n",
      "Epoch 5/10\n",
      "62999/62999 [==============================] - 54s 855us/step - loss: 0.2419 - acc: 0.9257 - val_loss: 0.2302 - val_acc: 0.9329\n",
      "Epoch 6/10\n",
      "62999/62999 [==============================] - 56s 896us/step - loss: 0.2249 - acc: 0.9315 - val_loss: 0.2179 - val_acc: 0.936257 - acc: 0\n",
      "Epoch 7/10\n",
      "62999/62999 [==============================] - 55s 879us/step - loss: 0.2083 - acc: 0.9358 - val_loss: 0.2172 - val_acc: 0.9369\n",
      "Epoch 8/10\n",
      "62999/62999 [==============================] - 52s 821us/step - loss: 0.1971 - acc: 0.9390 - val_loss: 0.2079 - val_acc: 0.9394\n",
      "Epoch 9/10\n",
      "62999/62999 [==============================] - 53s 838us/step - loss: 0.1880 - acc: 0.9413 - val_loss: 0.2136 - val_acc: 0.9376\n",
      "Epoch 10/10\n",
      "62999/62999 [==============================] - 54s 858us/step - loss: 0.1771 - acc: 0.9449 - val_loss: 0.1991 - val_acc: 0.9411\n",
      "[INFO] evaluating model...\n",
      "Final CNN accuracy:  0.9421\n"
     ]
    }
   ],
   "source": [
    "# build the model\n",
    "print(\"[INFO] creating model...\")\n",
    "model = cnn_model()\n",
    "# Fit the model\n",
    "print(\"[INFO] training model...\")\n",
    "records = model.fit(X_train_cnn, y_train_cnn, validation_split=0.3, epochs=10, batch_size=200)\n",
    "# Final evaluation of the model\n",
    "print(\"[INFO] evaluating model...\")\n",
    "scores = model.evaluate(X_test_cnn, y_test_cnn, verbose=0)\n",
    "print('Final CNN accuracy: ', scores[1])"
   ]
  },
  {
   "cell_type": "markdown",
   "metadata": {},
   "source": [
    "# Saving Model"
   ]
  },
  {
   "cell_type": "code",
   "execution_count": null,
   "metadata": {},
   "outputs": [],
   "source": [
    "print(\"[INFO] saving model...\")\n",
    "model.save(\"model.h5\")"
   ]
  },
  {
   "cell_type": "markdown",
   "metadata": {},
   "source": [
    "# Curves and Graphs"
   ]
  },
  {
   "cell_type": "code",
   "execution_count": 48,
   "metadata": {
    "colab": {
     "base_uri": "https://localhost:8080/",
     "height": 334
    },
    "colab_type": "code",
    "executionInfo": {
     "elapsed": 30719,
     "status": "ok",
     "timestamp": 1556348877316,
     "user": {
      "displayName": "Shah Meet Harshadbhai",
      "photoUrl": "https://lh3.googleusercontent.com/-Xw3qCrh1Coc/AAAAAAAAAAI/AAAAAAAAD7g/6HCf0aKb4C4/s64/photo.jpg",
      "userId": "04367392469878204476"
     },
     "user_tz": -330
    },
    "id": "vxKIII3Exfsz",
    "outputId": "18404a83-bd03-49d3-a7c9-d7460a6f23de"
   },
   "outputs": [
    {
     "name": "stderr",
     "output_type": "stream",
     "text": [
      "C:\\Users\\Devashi Jain\\DMG\\lib\\site-packages\\matplotlib\\axes\\_axes.py:6571: UserWarning: The 'normed' kwarg is deprecated, and has been replaced by the 'density' kwarg.\n",
      "  warnings.warn(\"The 'normed' kwarg is deprecated, and has been \"\n"
     ]
    },
    {
     "data": {
      "image/png": "[encoded data removed]",
      "text/plain": [
       "<Figure size 432x288 with 1 Axes>"
      ]
     },
     "metadata": {},
     "output_type": "display_data"
    }
   ],
   "source": [
    "import matplotlib.pyplot as plt\n",
    "cnn_probab = model.predict(X_test_cnn, batch_size=32, verbose=0)\n",
    "\n",
    "# extract the probability for the label that was predicted:\n",
    "p_max = np.amax(cnn_probab, axis=1)\n",
    "\n",
    "plt.hist(p_max, normed=True, bins=list(np.linspace(0,1,11)));\n",
    "plt.xlabel('p of predicted class');"
   ]
  },
  {
   "cell_type": "code",
   "execution_count": 47,
   "metadata": {},
   "outputs": [
    {
     "data": {
      "text/plain": [
       "<matplotlib.legend.Legend at 0x1560f1b6b38>"
      ]
     },
     "execution_count": 47,
     "metadata": {},
     "output_type": "execute_result"
    },
    {
     "data": {
      "image/png": "[encoded data removed]",
      "text/plain": [
       "<Figure size 432x288 with 1 Axes>"
      ]
     },
     "metadata": {},
     "output_type": "display_data"
    }
   ],
   "source": [
    "N = 10\n",
    "plt.style.use(\"ggplot\")\n",
    "plt.figure()\n",
    "plt.plot(np.arange(0, N), records.history[\"loss\"], label=\"train_loss\")\n",
    "plt.plot(np.arange(0, N), records.history[\"val_loss\"], label=\"val_loss\")\n",
    "plt.plot(np.arange(0, N), records.history[\"acc\"], label=\"train_acc\")\n",
    "plt.plot(np.arange(0, N), records.history[\"val_acc\"], label=\"val_acc\")\n",
    "plt.title(\"Training Loss and Accuracy\")\n",
    "plt.xlabel(\"Epoch #\")\n",
    "plt.ylabel(\"Loss/Accuracy\")\n",
    "plt.legend(loc=\"lower left\")"
   ]
  }
 ],
 "metadata": {
  "colab": {
   "name": "Final_Training_CNN.ipynb",
   "provenance": [],
   "version": "0.3.2"
  },
  "kernelspec": {
   "display_name": "Python 3",
   "language": "python",
   "name": "python3"
  },
  "language_info": {
   "codemirror_mode": {
    "name": "ipython",
    "version": 3
   },
   "file_extension": ".py",
   "mimetype": "text/x-python",
   "name": "python",
   "nbconvert_exporter": "python",
   "pygments_lexer": "ipython3",
   "version": "3.7.0"
  }
 },
 "nbformat": 4,
 "nbformat_minor": 1
}
