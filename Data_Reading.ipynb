{
 "cells": [
  {
   "cell_type": "code",
   "execution_count": 0,
   "metadata": {
    "colab": {},
    "colab_type": "code",
    "id": "sGRgYGvjiBVB"
   },
   "outputs": [],
   "source": [
    "import numpy as np\n",
    "import cv2\n",
    "import glob"
   ]
  },
  {
   "cell_type": "code",
   "execution_count": 3,
   "metadata": {
    "colab": {
     "base_uri": "https://localhost:8080/",
     "height": 34
    },
    "colab_type": "code",
    "executionInfo": {
     "elapsed": 49442,
     "status": "ok",
     "timestamp": 1553007243465,
     "user": {
      "displayName": "Neha Goyal",
      "photoUrl": "",
      "userId": "09095387261537047785"
     },
     "user_tz": -330
    },
    "id": "ZrsjNPqBiFdb",
    "outputId": "9e3b6eca-a257-40e1-d35c-15587f4bfae1"
   },
   "outputs": [
    {
     "name": "stdout",
     "output_type": "stream",
     "text": [
      "(1551252, 784)\n"
     ]
    }
   ],
   "source": [
    "def getClassData(path):\n",
    "    dataset=np.array([1])\n",
    "    first=True   \n",
    "    classShapes=[]\n",
    "    filenames=[]\n",
    "    for filename in glob.iglob(path+\"**/*\",recursive=True):\n",
    "        temp=np.load(filename)\n",
    "        if(first==True):\n",
    "            dataset=temp\n",
    "            first=False\n",
    "        else:\n",
    "            dataset=np.append(dataset,temp,axis=0)\n",
    "        classShapes.append(dataset.shape[0])\n",
    "        filenames.append(filename)\n",
    "        del temp\n",
    "    print(dataset.shape)\n",
    "    del first\n",
    "#     print(\"Classes: \",classes)\n",
    "    return dataset,classShapes,filenames\n",
    "path='Drive/CV_Project/Dataset_Quick_Draw/'\n",
    "data,classesShapes,filenames=getClassData(path)"
   ]
  },
  {
   "cell_type": "code",
   "execution_count": 4,
   "metadata": {
    "colab": {
     "base_uri": "https://localhost:8080/",
     "height": 51
    },
    "colab_type": "code",
    "executionInfo": {
     "elapsed": 1319,
     "status": "ok",
     "timestamp": 1553007260193,
     "user": {
      "displayName": "Neha Goyal",
      "photoUrl": "",
      "userId": "09095387261537047785"
     },
     "user_tz": -330
    },
    "id": "wGu83TReijNN",
    "outputId": "3d9b0b4f-1005-4e77-d579-9917fadb2992"
   },
   "outputs": [
    {
     "name": "stdout",
     "output_type": "stream",
     "text": [
      "1551252\n",
      "(1551252, 784)\n"
     ]
    }
   ],
   "source": [
    "labels=[]\n",
    "temp=0\n",
    "for i in range(len(classesShapes)):\n",
    "    splitFilePath=filenames[0].split(\"/\")\n",
    "    classDataLabels=[splitFilePath[len(splitFilePath)-1].split(\".\")[0]]*(classesShapes[0]-temp)\n",
    "    temp=classesShapes[0]\n",
    "    labels.extend(classDataLabels)\n",
    "    del classDataLabels\n",
    "    del splitFilePath\n",
    "    del classesShapes[0]\n",
    "    del filenames[0]\n",
    "print(len(labels))\n",
    "#data=np.append(data,np.array(labels)[:,np.newaxis],axis=1)\n",
    "print(data.shape)\n",
    "labels=np.array(labels)[:,np.newaxis]\n",
    "del temp\n",
    "del filenames\n",
    "del classesShapes"
   ]
  },
  {
   "cell_type": "code",
   "execution_count": 0,
   "metadata": {
    "colab": {},
    "colab_type": "code",
    "id": "CUxP_HovoWBq"
   },
   "outputs": [],
   "source": [
    "import pandas as pd\n",
    "labels=pd.DataFrame(labels)\n",
    "data=pd.DataFrame(data)"
   ]
  },
  {
   "cell_type": "code",
   "execution_count": 15,
   "metadata": {
    "colab": {
     "base_uri": "https://localhost:8080/",
     "height": 34
    },
    "colab_type": "code",
    "executionInfo": {
     "elapsed": 2047,
     "status": "ok",
     "timestamp": 1553007785897,
     "user": {
      "displayName": "Neha Goyal",
      "photoUrl": "",
      "userId": "09095387261537047785"
     },
     "user_tz": -330
    },
    "id": "hsD-u73PeWQG",
    "outputId": "26c9d6d6-eae4-46ab-e12a-b6a8d7946c0b"
   },
   "outputs": [
    {
     "data": {
      "text/plain": [
       "Index([0, 'Label'], dtype='object')"
      ]
     },
     "execution_count": 15,
     "metadata": {
      "tags": []
     },
     "output_type": "execute_result"
    }
   ],
   "source": [
    "labels['Label']=labels[0]\n",
    "labels.columns"
   ]
  },
  {
   "cell_type": "code",
   "execution_count": 17,
   "metadata": {
    "colab": {
     "base_uri": "https://localhost:8080/",
     "height": 34
    },
    "colab_type": "code",
    "executionInfo": {
     "elapsed": 1307,
     "status": "ok",
     "timestamp": 1553007870688,
     "user": {
      "displayName": "Neha Goyal",
      "photoUrl": "",
      "userId": "09095387261537047785"
     },
     "user_tz": -330
    },
    "id": "k9CigduyelXx",
    "outputId": "25c0468d-292b-4057-e775-3241b1aa06da"
   },
   "outputs": [
    {
     "data": {
      "text/plain": [
       "Index(['Label'], dtype='object')"
      ]
     },
     "execution_count": 17,
     "metadata": {
      "tags": []
     },
     "output_type": "execute_result"
    }
   ],
   "source": [
    "labels=labels.drop([0],axis=1)\n",
    "labels.columns"
   ]
  },
  {
   "cell_type": "code",
   "execution_count": 0,
   "metadata": {
    "colab": {},
    "colab_type": "code",
    "id": "HY_mapTbderg"
   },
   "outputs": [],
   "source": [
    "dataNew=data.join(labels)"
   ]
  },
  {
   "cell_type": "code",
   "execution_count": 0,
   "metadata": {
    "colab": {},
    "colab_type": "code",
    "id": "o5dadgavfGej"
   },
   "outputs": [],
   "source": [
    "del data"
   ]
  },
  {
   "cell_type": "code",
   "execution_count": 0,
   "metadata": {
    "colab": {},
    "colab_type": "code",
    "id": "xVsC-jPgYadm"
   },
   "outputs": [],
   "source": [
    "#np.savetxt(\"Drive/CV_Project/data.csv\", dataNew, delimiter=\",\")\n",
    "dataNew.to_csv(\"Drive/CV_Project/data.csv\", sep='\\t', encoding='utf-8')"
   ]
  },
  {
   "cell_type": "code",
   "execution_count": 0,
   "metadata": {
    "colab": {},
    "colab_type": "code",
    "id": "fwCdPMozsQFn"
   },
   "outputs": [],
   "source": []
  }
 ],
 "metadata": {
  "colab": {
   "name": "Data_Reading.ipynb",
   "provenance": [],
   "version": "0.3.2"
  },
  "kernelspec": {
   "display_name": "Python 3",
   "language": "python",
   "name": "python3"
  },
  "language_info": {
   "codemirror_mode": {
    "name": "ipython",
    "version": 3
   },
   "file_extension": ".py",
   "mimetype": "text/x-python",
   "name": "python",
   "nbconvert_exporter": "python",
   "pygments_lexer": "ipython3",
   "version": "3.7.0"
  }
 },
 "nbformat": 4,
 "nbformat_minor": 1
}
