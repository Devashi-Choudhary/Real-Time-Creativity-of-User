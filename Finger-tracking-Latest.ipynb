{
 "cells": [
  {
   "cell_type": "markdown",
   "metadata": {},
   "source": [
    "# Import Libraries"
   ]
  },
  {
   "cell_type": "code",
   "execution_count": 9,
   "metadata": {
    "ExecuteTime": {
     "end_time": "2019-04-30T07:53:53.591868Z",
     "start_time": "2019-04-30T07:53:20.679889Z"
    }
   },
   "outputs": [
    {
     "name": "stderr",
     "output_type": "stream",
     "text": [
      "Using TensorFlow backend.\n"
     ]
    }
   ],
   "source": [
    "import numpy as np\n",
    "import cv2\n",
    "import operator\n",
    "from collections import deque\n",
    "from scipy.spatial import distance\n",
    "from sklearn.metrics import pairwise\n",
    "from keras.models import model_from_json"
   ]
  },
  {
   "cell_type": "code",
   "execution_count": 10,
   "metadata": {
    "ExecuteTime": {
     "end_time": "2019-04-30T07:53:54.754045Z",
     "start_time": "2019-04-30T07:53:53.591868Z"
    }
   },
   "outputs": [],
   "source": [
    "from keras import models\n",
    "classifier = models.load_model(\"mods.h5\")"
   ]
  },
  {
   "cell_type": "code",
   "execution_count": 11,
   "metadata": {
    "ExecuteTime": {
     "end_time": "2019-04-30T07:53:54.763071Z",
     "start_time": "2019-04-30T07:53:54.754045Z"
    }
   },
   "outputs": [],
   "source": [
    "class_dict = {0:'The-Eiffel-Tower', 1:'Apple', 2:'Cup', 3:'Laptop', 4:'Leaf', 5:'Penguin', 6:'Pizza', 7:'Triangle', 8:'Shoe', 9:'Wine-Bottle'}"
   ]
  },
  {
   "cell_type": "code",
   "execution_count": 12,
   "metadata": {
    "ExecuteTime": {
     "end_time": "2019-04-30T07:53:54.883042Z",
     "start_time": "2019-04-30T07:53:54.771069Z"
    }
   },
   "outputs": [],
   "source": [
    "def get_prediction(creative_image, classifier, class_dict):\n",
    "    \n",
    "    creative_image = creative_image.astype(np.uint8)\n",
    "    gray_creative = cv2.cvtColor(creative_image, cv2.COLOR_BGR2GRAY)\n",
    "    median_blur = cv2.medianBlur(gray_creative, 15)\n",
    "    \n",
    "    label = \"Nothing\"\n",
    "    thresh_img = cv2.threshold(median_blur, 0, 255, cv2.THRESH_BINARY + cv2.THRESH_OTSU)[1]\n",
    "    creative_cnts = cv2.findContours(thresh_img.copy(), cv2.RETR_TREE, cv2.CHAIN_APPROX_NONE)[1]\n",
    "    if len(creative_cnts) >= 1:\n",
    "        max_cnt = max(creative_cnts, key=cv2.contourArea)\n",
    "        \n",
    "        if cv2.contourArea(max_cnt) > 150:\n",
    "            x, y, w, h = cv2.boundingRect(max_cnt)\n",
    "            drawn_image = gray_creative[y:y + h, x:x + w]\n",
    "            cv2.imshow(\"cf\",drawn_image)\n",
    "            t = cv2.resize(drawn_image, (28,28))\n",
    "            t = t.reshape(1,1,28,28)\n",
    "            prediction = classifier.predict_classes(t)\n",
    "            label = class_dict[prediction[0]]\n",
    "    return label"
   ]
  },
  {
   "cell_type": "markdown",
   "metadata": {},
   "source": [
    "# Initialization"
   ]
  },
  {
   "cell_type": "code",
   "execution_count": 28,
   "metadata": {
    "ExecuteTime": {
     "end_time": "2019-04-30T07:58:14.775139Z",
     "start_time": "2019-04-30T07:58:14.767144Z"
    }
   },
   "outputs": [],
   "source": [
    "region_x = 0.5\n",
    "region_y = 0.6\n",
    "\n",
    "count_of_frames = 40\n",
    "alpha = 0.5\n",
    "threshold = 25\n",
    "\n",
    "region_x_temp = 0.5\n",
    "region_y_temp = 0.9\n"
   ]
  },
  {
   "cell_type": "markdown",
   "metadata": {},
   "source": [
    "# Detect Background for Background Subtraction"
   ]
  },
  {
   "cell_type": "code",
   "execution_count": 29,
   "metadata": {
    "ExecuteTime": {
     "end_time": "2019-04-30T07:58:15.552846Z",
     "start_time": "2019-04-30T07:58:15.544848Z"
    }
   },
   "outputs": [],
   "source": [
    "def detect_background(image, alpha):\n",
    "    \n",
    "    global background\n",
    "    if background is None:\n",
    "        background = np.copy(image).astype(np.float64)\n",
    "        return\n",
    "    \n",
    "    cv2.accumulateWeighted(image, background, alpha)"
   ]
  },
  {
   "cell_type": "markdown",
   "metadata": {},
   "source": [
    "# Find Centroid of the Detected Hand"
   ]
  },
  {
   "cell_type": "code",
   "execution_count": 30,
   "metadata": {
    "ExecuteTime": {
     "end_time": "2019-04-30T07:58:16.250418Z",
     "start_time": "2019-04-30T07:58:16.242421Z"
    }
   },
   "outputs": [],
   "source": [
    "def find_centroid(cont):\n",
    "    \n",
    "    moment = cv2.moments(cont)\n",
    "    if moment['m00'] != 0:\n",
    "        cx = int(moment['m10']/moment['m00'])\n",
    "        cy = int(moment['m01']/moment['m00'])\n",
    "        return cx, cy\n",
    "    return None"
   ]
  },
  {
   "cell_type": "markdown",
   "metadata": {},
   "source": [
    "# Find the Farthest point from the Centroid"
   ]
  },
  {
   "cell_type": "code",
   "execution_count": 31,
   "metadata": {
    "ExecuteTime": {
     "end_time": "2019-04-30T07:58:16.946047Z",
     "start_time": "2019-04-30T07:58:16.934051Z"
    }
   },
   "outputs": [],
   "source": [
    "def farthest_point(defects, contour, centroid):\n",
    "    \n",
    "    if defects is not None and centroid is not None:\n",
    "        starting_point = defects[:, 0][:, 0]\n",
    "        cx, cy = centroid\n",
    "        \n",
    "        x = np.array(contour[starting_point][:, 0][:, 0], dtype=np.float)\n",
    "        y = np.array(contour[starting_point][:, 0][:, 1], dtype=np.float)\n",
    "\n",
    "        xp = (x-cx)**2\n",
    "        yp = (y-cy)**2\n",
    "        dist = cv2.sqrt(xp+yp)\n",
    "\n",
    "        max_dist_index = np.argmax(dist)\n",
    "\n",
    "        if max_dist_index < len(starting_point):\n",
    "            farthest_defect = starting_point[max_dist_index]\n",
    "            farthest_point = tuple(contour[farthest_defect][0])\n",
    "            return farthest_point\n",
    "        else:\n",
    "            return None"
   ]
  },
  {
   "cell_type": "markdown",
   "metadata": {},
   "source": [
    "# Count the number of Fingers"
   ]
  },
  {
   "cell_type": "code",
   "execution_count": 32,
   "metadata": {
    "ExecuteTime": {
     "end_time": "2019-04-30T07:58:17.605829Z",
     "start_time": "2019-04-30T07:58:17.585828Z"
    }
   },
   "outputs": [],
   "source": [
    "def count_fingers(threshold_image, max_contour):\n",
    "    \n",
    "    convex = cv2.convexHull(max_contour)\n",
    "    top    = tuple(convex[convex[:, :, 1].argmin()][0])\n",
    "    bottom = tuple(convex[convex[:, :, 1].argmax()][0])\n",
    "    left   = tuple(convex[convex[:, :, 0].argmin()][0])\n",
    "    right  = tuple(convex[convex[:, :, 0].argmax()][0])\n",
    "\n",
    "    cX = int((left[0] + right[0]) / 2)\n",
    "    cY = int((top[1] + bottom[1]) / 2)\n",
    "    \n",
    "    Xs=[(cX, cY)]\n",
    "    Ys=[left, right, top, bottom]\n",
    "    \n",
    "    dist = pairwise.euclidean_distances(Xs, Y=Ys)[0]\n",
    "    max_dist = dist[dist.argmax()]\n",
    "    \n",
    "    radius = int(0.9 * max_dist)\n",
    "    circum = (2 * np.pi * radius)\n",
    "    circle_roi = np.zeros(threshold_image.shape[:2], dtype=np.uint8)\n",
    "    cv2.circle(circle_roi, (cX, cY), radius, 255, 1)\n",
    "    \n",
    "    circle_roi = cv2.bitwise_and(threshold_image, threshold_image, mask=circle_roi)\n",
    "#     cv2.imshow(\"circle_roi\", circle_roi)\n",
    "    _, cnts, _ = cv2.findContours(circle_roi.copy(), cv2.RETR_EXTERNAL, cv2.CHAIN_APPROX_NONE)\n",
    "\n",
    "    count = 0\n",
    "    for c in cnts:\n",
    "        (x, y, w, h) = cv2.boundingRect(c)\n",
    "        \n",
    "        if ((cY + (cY * 0.25)) > (y + h)) and ((circum * 0.40) > c.shape[0]):\n",
    "            count += 1\n",
    "\n",
    "    return count "
   ]
  },
  {
   "cell_type": "markdown",
   "metadata": {
    "ExecuteTime": {
     "end_time": "2019-03-20T14:58:04.860458Z",
     "start_time": "2019-03-20T14:58:04.856460Z"
    }
   },
   "source": [
    "# Capture Video and Finger Tracking"
   ]
  },
  {
   "cell_type": "code",
   "execution_count": 33,
   "metadata": {
    "ExecuteTime": {
     "end_time": "2019-04-30T07:58:18.256069Z",
     "start_time": "2019-04-30T07:58:18.248051Z"
    }
   },
   "outputs": [],
   "source": [
    "import matplotlib.pyplot as plt"
   ]
  },
  {
   "cell_type": "code",
   "execution_count": 42,
   "metadata": {
    "ExecuteTime": {
     "end_time": "2019-04-30T09:40:21.241893Z",
     "start_time": "2019-04-30T09:39:50.072248Z"
    },
    "scrolled": false
   },
   "outputs": [
    {
     "name": "stderr",
     "output_type": "stream",
     "text": [
      "c:\\python\\lib\\site-packages\\ipykernel_launcher.py:110: RuntimeWarning: invalid value encountered in true_divide\n",
      "c:\\python\\lib\\site-packages\\ipykernel_launcher.py:110: RuntimeWarning: invalid value encountered in true_divide\n",
      "c:\\python\\lib\\site-packages\\ipykernel_launcher.py:110: RuntimeWarning: invalid value encountered in true_divide\n",
      "c:\\python\\lib\\site-packages\\ipykernel_launcher.py:110: RuntimeWarning: invalid value encountered in true_divide\n",
      "c:\\python\\lib\\site-packages\\ipykernel_launcher.py:110: RuntimeWarning: invalid value encountered in true_divide\n",
      "c:\\python\\lib\\site-packages\\ipykernel_launcher.py:110: RuntimeWarning: invalid value encountered in true_divide\n",
      "c:\\python\\lib\\site-packages\\ipykernel_launcher.py:110: RuntimeWarning: invalid value encountered in true_divide\n",
      "c:\\python\\lib\\site-packages\\ipykernel_launcher.py:110: RuntimeWarning: invalid value encountered in true_divide\n",
      "c:\\python\\lib\\site-packages\\ipykernel_launcher.py:110: RuntimeWarning: invalid value encountered in true_divide\n",
      "c:\\python\\lib\\site-packages\\ipykernel_launcher.py:110: RuntimeWarning: invalid value encountered in true_divide\n",
      "c:\\python\\lib\\site-packages\\ipykernel_launcher.py:110: RuntimeWarning: invalid value encountered in true_divide\n",
      "c:\\python\\lib\\site-packages\\ipykernel_launcher.py:110: RuntimeWarning: invalid value encountered in true_divide\n",
      "c:\\python\\lib\\site-packages\\ipykernel_launcher.py:110: RuntimeWarning: invalid value encountered in true_divide\n",
      "c:\\python\\lib\\site-packages\\ipykernel_launcher.py:110: RuntimeWarning: invalid value encountered in true_divide\n",
      "c:\\python\\lib\\site-packages\\ipykernel_launcher.py:110: RuntimeWarning: invalid value encountered in true_divide\n",
      "c:\\python\\lib\\site-packages\\ipykernel_launcher.py:110: RuntimeWarning: invalid value encountered in true_divide\n",
      "c:\\python\\lib\\site-packages\\ipykernel_launcher.py:110: RuntimeWarning: invalid value encountered in true_divide\n",
      "c:\\python\\lib\\site-packages\\ipykernel_launcher.py:110: RuntimeWarning: invalid value encountered in true_divide\n",
      "c:\\python\\lib\\site-packages\\ipykernel_launcher.py:110: RuntimeWarning: invalid value encountered in true_divide\n",
      "c:\\python\\lib\\site-packages\\ipykernel_launcher.py:110: RuntimeWarning: invalid value encountered in true_divide\n",
      "c:\\python\\lib\\site-packages\\ipykernel_launcher.py:110: RuntimeWarning: invalid value encountered in true_divide\n",
      "c:\\python\\lib\\site-packages\\ipykernel_launcher.py:110: RuntimeWarning: invalid value encountered in true_divide\n",
      "c:\\python\\lib\\site-packages\\ipykernel_launcher.py:110: RuntimeWarning: invalid value encountered in true_divide\n",
      "c:\\python\\lib\\site-packages\\ipykernel_launcher.py:110: RuntimeWarning: invalid value encountered in true_divide\n",
      "c:\\python\\lib\\site-packages\\ipykernel_launcher.py:110: RuntimeWarning: invalid value encountered in true_divide\n",
      "c:\\python\\lib\\site-packages\\ipykernel_launcher.py:110: RuntimeWarning: invalid value encountered in true_divide\n",
      "c:\\python\\lib\\site-packages\\ipykernel_launcher.py:110: RuntimeWarning: invalid value encountered in true_divide\n",
      "c:\\python\\lib\\site-packages\\ipykernel_launcher.py:110: RuntimeWarning: invalid value encountered in true_divide\n",
      "c:\\python\\lib\\site-packages\\ipykernel_launcher.py:110: RuntimeWarning: invalid value encountered in true_divide\n",
      "c:\\python\\lib\\site-packages\\ipykernel_launcher.py:110: RuntimeWarning: invalid value encountered in true_divide\n",
      "c:\\python\\lib\\site-packages\\ipykernel_launcher.py:110: RuntimeWarning: invalid value encountered in true_divide\n",
      "c:\\python\\lib\\site-packages\\ipykernel_launcher.py:110: RuntimeWarning: invalid value encountered in true_divide\n",
      "c:\\python\\lib\\site-packages\\ipykernel_launcher.py:110: RuntimeWarning: invalid value encountered in true_divide\n",
      "c:\\python\\lib\\site-packages\\ipykernel_launcher.py:110: RuntimeWarning: invalid value encountered in true_divide\n",
      "c:\\python\\lib\\site-packages\\ipykernel_launcher.py:110: RuntimeWarning: invalid value encountered in true_divide\n",
      "c:\\python\\lib\\site-packages\\ipykernel_launcher.py:110: RuntimeWarning: invalid value encountered in true_divide\n",
      "c:\\python\\lib\\site-packages\\ipykernel_launcher.py:110: RuntimeWarning: invalid value encountered in true_divide\n",
      "c:\\python\\lib\\site-packages\\ipykernel_launcher.py:110: RuntimeWarning: invalid value encountered in true_divide\n",
      "c:\\python\\lib\\site-packages\\ipykernel_launcher.py:110: RuntimeWarning: invalid value encountered in true_divide\n",
      "c:\\python\\lib\\site-packages\\ipykernel_launcher.py:110: RuntimeWarning: invalid value encountered in true_divide\n",
      "c:\\python\\lib\\site-packages\\ipykernel_launcher.py:110: RuntimeWarning: invalid value encountered in true_divide\n",
      "c:\\python\\lib\\site-packages\\ipykernel_launcher.py:110: RuntimeWarning: invalid value encountered in true_divide\n",
      "c:\\python\\lib\\site-packages\\ipykernel_launcher.py:110: RuntimeWarning: invalid value encountered in true_divide\n",
      "c:\\python\\lib\\site-packages\\ipykernel_launcher.py:110: RuntimeWarning: invalid value encountered in true_divide\n",
      "c:\\python\\lib\\site-packages\\ipykernel_launcher.py:110: RuntimeWarning: invalid value encountered in true_divide\n",
      "c:\\python\\lib\\site-packages\\ipykernel_launcher.py:110: RuntimeWarning: invalid value encountered in true_divide\n",
      "c:\\python\\lib\\site-packages\\ipykernel_launcher.py:110: RuntimeWarning: invalid value encountered in true_divide\n",
      "c:\\python\\lib\\site-packages\\ipykernel_launcher.py:110: RuntimeWarning: invalid value encountered in true_divide\n",
      "c:\\python\\lib\\site-packages\\ipykernel_launcher.py:110: RuntimeWarning: invalid value encountered in true_divide\n",
      "c:\\python\\lib\\site-packages\\ipykernel_launcher.py:110: RuntimeWarning: invalid value encountered in true_divide\n",
      "c:\\python\\lib\\site-packages\\ipykernel_launcher.py:110: RuntimeWarning: invalid value encountered in true_divide\n",
      "c:\\python\\lib\\site-packages\\ipykernel_launcher.py:110: RuntimeWarning: invalid value encountered in true_divide\n",
      "c:\\python\\lib\\site-packages\\ipykernel_launcher.py:110: RuntimeWarning: invalid value encountered in true_divide\n",
      "c:\\python\\lib\\site-packages\\ipykernel_launcher.py:110: RuntimeWarning: invalid value encountered in true_divide\n",
      "c:\\python\\lib\\site-packages\\ipykernel_launcher.py:110: RuntimeWarning: invalid value encountered in true_divide\n",
      "c:\\python\\lib\\site-packages\\ipykernel_launcher.py:110: RuntimeWarning: invalid value encountered in true_divide\n",
      "c:\\python\\lib\\site-packages\\ipykernel_launcher.py:110: RuntimeWarning: invalid value encountered in true_divide\n",
      "c:\\python\\lib\\site-packages\\ipykernel_launcher.py:110: RuntimeWarning: invalid value encountered in true_divide\n",
      "c:\\python\\lib\\site-packages\\ipykernel_launcher.py:110: RuntimeWarning: invalid value encountered in true_divide\n",
      "c:\\python\\lib\\site-packages\\ipykernel_launcher.py:110: RuntimeWarning: invalid value encountered in true_divide\n",
      "c:\\python\\lib\\site-packages\\ipykernel_launcher.py:110: RuntimeWarning: invalid value encountered in true_divide\n",
      "c:\\python\\lib\\site-packages\\ipykernel_launcher.py:110: RuntimeWarning: invalid value encountered in true_divide\n",
      "c:\\python\\lib\\site-packages\\ipykernel_launcher.py:110: RuntimeWarning: invalid value encountered in true_divide\n",
      "c:\\python\\lib\\site-packages\\ipykernel_launcher.py:110: RuntimeWarning: invalid value encountered in true_divide\n",
      "c:\\python\\lib\\site-packages\\ipykernel_launcher.py:110: RuntimeWarning: invalid value encountered in true_divide\n",
      "c:\\python\\lib\\site-packages\\ipykernel_launcher.py:110: RuntimeWarning: invalid value encountered in true_divide\n",
      "c:\\python\\lib\\site-packages\\ipykernel_launcher.py:110: RuntimeWarning: invalid value encountered in true_divide\n",
      "c:\\python\\lib\\site-packages\\ipykernel_launcher.py:110: RuntimeWarning: invalid value encountered in true_divide\n",
      "c:\\python\\lib\\site-packages\\ipykernel_launcher.py:110: RuntimeWarning: invalid value encountered in true_divide\n",
      "c:\\python\\lib\\site-packages\\ipykernel_launcher.py:110: RuntimeWarning: invalid value encountered in true_divide\n",
      "c:\\python\\lib\\site-packages\\ipykernel_launcher.py:110: RuntimeWarning: invalid value encountered in true_divide\n",
      "c:\\python\\lib\\site-packages\\ipykernel_launcher.py:110: RuntimeWarning: invalid value encountered in true_divide\n",
      "c:\\python\\lib\\site-packages\\ipykernel_launcher.py:110: RuntimeWarning: invalid value encountered in true_divide\n",
      "c:\\python\\lib\\site-packages\\ipykernel_launcher.py:110: RuntimeWarning: invalid value encountered in true_divide\n",
      "c:\\python\\lib\\site-packages\\ipykernel_launcher.py:110: RuntimeWarning: invalid value encountered in true_divide\n",
      "c:\\python\\lib\\site-packages\\ipykernel_launcher.py:110: RuntimeWarning: invalid value encountered in true_divide\n"
     ]
    },
    {
     "name": "stderr",
     "output_type": "stream",
     "text": [
      "c:\\python\\lib\\site-packages\\ipykernel_launcher.py:110: RuntimeWarning: invalid value encountered in true_divide\n",
      "c:\\python\\lib\\site-packages\\ipykernel_launcher.py:110: RuntimeWarning: invalid value encountered in true_divide\n",
      "c:\\python\\lib\\site-packages\\ipykernel_launcher.py:110: RuntimeWarning: invalid value encountered in true_divide\n",
      "c:\\python\\lib\\site-packages\\ipykernel_launcher.py:110: RuntimeWarning: invalid value encountered in true_divide\n",
      "c:\\python\\lib\\site-packages\\ipykernel_launcher.py:110: RuntimeWarning: invalid value encountered in true_divide\n",
      "c:\\python\\lib\\site-packages\\ipykernel_launcher.py:110: RuntimeWarning: invalid value encountered in true_divide\n",
      "c:\\python\\lib\\site-packages\\ipykernel_launcher.py:110: RuntimeWarning: invalid value encountered in true_divide\n",
      "c:\\python\\lib\\site-packages\\ipykernel_launcher.py:110: RuntimeWarning: invalid value encountered in true_divide\n",
      "c:\\python\\lib\\site-packages\\ipykernel_launcher.py:110: RuntimeWarning: invalid value encountered in true_divide\n",
      "c:\\python\\lib\\site-packages\\ipykernel_launcher.py:110: RuntimeWarning: invalid value encountered in true_divide\n",
      "c:\\python\\lib\\site-packages\\ipykernel_launcher.py:110: RuntimeWarning: invalid value encountered in true_divide\n",
      "c:\\python\\lib\\site-packages\\ipykernel_launcher.py:110: RuntimeWarning: invalid value encountered in true_divide\n",
      "c:\\python\\lib\\site-packages\\ipykernel_launcher.py:110: RuntimeWarning: invalid value encountered in true_divide\n",
      "c:\\python\\lib\\site-packages\\ipykernel_launcher.py:110: RuntimeWarning: invalid value encountered in true_divide\n",
      "c:\\python\\lib\\site-packages\\ipykernel_launcher.py:110: RuntimeWarning: invalid value encountered in true_divide\n",
      "c:\\python\\lib\\site-packages\\ipykernel_launcher.py:110: RuntimeWarning: invalid value encountered in true_divide\n",
      "c:\\python\\lib\\site-packages\\ipykernel_launcher.py:110: RuntimeWarning: invalid value encountered in true_divide\n",
      "c:\\python\\lib\\site-packages\\ipykernel_launcher.py:110: RuntimeWarning: invalid value encountered in true_divide\n",
      "c:\\python\\lib\\site-packages\\ipykernel_launcher.py:110: RuntimeWarning: invalid value encountered in true_divide\n",
      "c:\\python\\lib\\site-packages\\ipykernel_launcher.py:110: RuntimeWarning: invalid value encountered in true_divide\n",
      "c:\\python\\lib\\site-packages\\ipykernel_launcher.py:110: RuntimeWarning: invalid value encountered in true_divide\n",
      "c:\\python\\lib\\site-packages\\ipykernel_launcher.py:110: RuntimeWarning: invalid value encountered in true_divide\n"
     ]
    }
   ],
   "source": [
    "# Reference: https://s-ln.in/2013/04/18/hand-tracking-and-gesture-detection-opencv/\n",
    "\n",
    "background = None\n",
    "fcount = 0\n",
    "pts = deque(maxlen=512)\n",
    "\n",
    "cap = cv2.VideoCapture(0)\n",
    "background = None\n",
    "start = False\n",
    "ret, frame = cap.read()\n",
    "# top_left = (int(region_x*frame.shape[1]), 0)\n",
    "# bottom_right = (frame.shape[1], int(region_y*frame.shape[0]))\n",
    "# required_shape = (bottom_right[0] - top_left[0], bottom_right[1] - top_left[1])\n",
    "save_image = np.zeros(shape=frame.shape)\n",
    "\n",
    "while True:\n",
    "    ret, frame = cap.read()\n",
    "\n",
    "    ''' -----Flip the image so that it is not mirror image----- '''\n",
    "    frame = cv2.flip(frame, 1)\n",
    "    \n",
    "    copy_frame = np.copy(frame)\n",
    "    top_left = (int(region_x_temp*frame.shape[1]), 0)\n",
    "    bottom_right = (frame.shape[1], int(region_y_temp*frame.shape[0]))\n",
    "    \n",
    "    top_left_copy = (int(region_x*frame.shape[1]), 0)\n",
    "    bottom_right_copy = (frame.shape[1], int(region_y*frame.shape[0]))\n",
    "    \n",
    "    ''' -----Find Region of Interest (ROI)----- '''\n",
    "    roi = frame[top_left[1]:bottom_right[1], top_left[0]:bottom_right[0]]\n",
    "\n",
    "    gray = cv2.cvtColor(roi, cv2.COLOR_BGR2GRAY)\n",
    "    gray = cv2.GaussianBlur(gray, (5, 5), 0)\n",
    "    \n",
    "    \n",
    "    if fcount < count_of_frames:\n",
    "        detect_background(gray, alpha)\n",
    "    \n",
    "    else:\n",
    "        ''' -----Background Subtraction----- '''\n",
    "        difference = cv2.absdiff(background.astype(np.uint8), gray)\n",
    "        ret, threshold_image = cv2.threshold(difference, threshold, 255, cv2.THRESH_BINARY)\n",
    "        \n",
    "        ''' -----Finding Contours from the Frame----- '''\n",
    "        _, contours, _ = cv2.findContours(threshold_image ,cv2.RETR_EXTERNAL, cv2.CHAIN_APPROX_SIMPLE)\n",
    "\n",
    "        if len(contours) == 0:\n",
    "#             print(\"Put your hand in the frame\")\n",
    "            cv2.putText(frame, \"Can't detect anything\", (10, 70), cv2.FONT_HERSHEY_SIMPLEX, 0.5, (0,0,150), 2)\n",
    "            \n",
    "        else:\n",
    "        \n",
    "            try:\n",
    "                if start:\n",
    "                    ''' -----Detecting Hand and draw it on the Frame----- '''\n",
    "                    max_contour = max(contours, key = cv2.contourArea)\n",
    "                    area = cv2.contourArea(contours[0])\n",
    "                    cv2.drawContours(copy_frame, [max_contour + top_left],  -1, (0, 255, 0), 3)\n",
    "                    cv2.imshow(\"Thesholded\", threshold_image)\n",
    "\n",
    "    #                 if area > 3000:\n",
    "                    ''' -----Find Cetroid of the detected Hand----- '''\n",
    "                    centroid = find_centroid(max_contour)\n",
    "                    if centroid is not None:\n",
    "                        actual_centroid = tuple(map(operator.add, centroid, top_left))\n",
    "                        cv2.circle(copy_frame, actual_centroid, 5, [255, 0, 255], -1)\n",
    "\n",
    "                    ''' -----Calculate Convex hull and convexity Defects.. Using them calculate farthest point from the centroid----- '''\n",
    "                    hull = cv2.convexHull(max_contour, returnPoints=False)\n",
    "                    defects = cv2.convexityDefects(max_contour, hull)\n",
    "                    far_point = farthest_point(defects, max_contour, centroid)\n",
    "#                     print(\"Centroid : \" + str(centroid) + \", farthest Point : \" + str(far_point))\n",
    "                    \n",
    "                    number = count_fingers(threshold_image, max_contour)\n",
    "                    cv2.putText(copy_frame, str(number), (70, 45), cv2.FONT_HERSHEY_SIMPLEX, 1, (0,0,255), 2)\n",
    "                    if far_point is not None:\n",
    "                        \n",
    "                        center = tuple(map(operator.add, far_point, top_left))\n",
    "                        cv2.circle(copy_frame, center, 5, [0, 0, 255], -1)\n",
    "                        \n",
    "                        if number == 1:\n",
    "                            pts.appendleft(center)\n",
    "#                         else:\n",
    "#                             pts = deque(maxlen=512)\n",
    "\n",
    "                    ''' -----Draw according to the move of the fingers----- '''\n",
    "                    for i in range(1, len(pts)):\n",
    "                        if pts[i - 1] is None or pts[i] is None:\n",
    "                            continue\n",
    "                        cv2.line(save_image, pts[i - 1], pts[i], (255, 255, 255), 6)\n",
    "                        cv2.line(copy_frame, pts[i - 1], pts[i], (0, 0, 255), 2)\n",
    "#                         drawn_image = save_image[top_left[1]:bottom_right[1], top_left[0]:bottom_right[0]]\n",
    "\n",
    "\n",
    "                    if len(pts)  != []:\n",
    "                        predict = get_prediction(save_image, classifier, class_dict)\n",
    "                        cv2.putText(copy_frame, predict, (70, 145), cv2.FONT_HERSHEY_SIMPLEX, 1, (0,0,255), 2)\n",
    "                        if(predict!=\"Nothing\"):\n",
    "                            smallImg=cv2.imread(predict+'.png')\n",
    "                            img = cv2.resize(smallImg,(int(copy_frame.shape[1]/4),int(copy_frame.shape[0]/4)),interpolation=cv2.INTER_NEAREST)\n",
    "                            copy_frame[150:150+img.shape[0], 70:70+img.shape[1]] = img\n",
    "                            \n",
    "            except Exception as e:\n",
    "                print(e)\n",
    "                cv2.putText(copy_frame, \"Put your hand in the frame\", (10, 70), cv2.FONT_HERSHEY_SIMPLEX, 0.5, (0,0,255), 2)\n",
    "            \n",
    "    ''' -----Draw rectangle to the Region of Interest!----- '''\n",
    "    x = cv2.rectangle(copy_frame, top_left_copy, bottom_right_copy, (128, 255, 0), 2)\n",
    "    fcount += 1\n",
    "    cv2.imshow('drawn Image', save_image/np.max(save_image))\n",
    "    cv2.imshow('frame', copy_frame)\n",
    "    \n",
    "    if cv2.waitKey(1) & 0xFF == ord('s'):\n",
    "        start = True\n",
    "    if cv2.waitKey(1) & 0xFF == ord('q'):\n",
    "        break\n",
    "\n",
    "cap.release()\n",
    "cv2.destroyAllWindows()"
   ]
  },
  {
   "cell_type": "code",
   "execution_count": null,
   "metadata": {},
   "outputs": [],
   "source": []
  },
  {
   "cell_type": "code",
   "execution_count": null,
   "metadata": {},
   "outputs": [],
   "source": []
  }
 ],
 "metadata": {
  "kernelspec": {
   "display_name": "Python 3",
   "language": "python",
   "name": "python3"
  },
  "language_info": {
   "codemirror_mode": {
    "name": "ipython",
    "version": 3
   },
   "file_extension": ".py",
   "mimetype": "text/x-python",
   "name": "python",
   "nbconvert_exporter": "python",
   "pygments_lexer": "ipython3",
   "version": "3.7.0"
  }
 },
 "nbformat": 4,
 "nbformat_minor": 2
}
